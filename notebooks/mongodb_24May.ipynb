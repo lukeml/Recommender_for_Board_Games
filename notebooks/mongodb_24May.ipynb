{
 "cells": [
  {
   "cell_type": "code",
   "execution_count": 1,
   "metadata": {},
   "outputs": [],
   "source": [
    "from pymongo import MongoClient\n",
    "from pprint import pprint\n",
    "\n",
    "import pandas as pd\n",
    "import numpy as np"
   ]
  },
  {
   "cell_type": "code",
   "execution_count": 2,
   "metadata": {},
   "outputs": [],
   "source": [
    "# This creates a client that uses the default port on localhost.\n",
    "# If connecting to AWS, you need a connection string.\n",
    "# Can do the same thing with MongoClient(\"mongodb://localhost:27017\")\n",
    "client = MongoClient()"
   ]
  },
  {
   "cell_type": "code",
   "execution_count": 3,
   "metadata": {},
   "outputs": [],
   "source": [
    "# Makes it look similar to shell mongo\n",
    "db = client.books"
   ]
  },
  {
   "cell_type": "code",
   "execution_count": 4,
   "metadata": {},
   "outputs": [
    {
     "data": {
      "text/plain": [
       "['author', 'catalog', 'quotes']"
      ]
     },
     "execution_count": 4,
     "metadata": {},
     "output_type": "execute_result"
    }
   ],
   "source": [
    "# This should have the 'author' collection we used before and the 'catalog' collection.\n",
    "# If not, you haven't connected to the right database, or haven't uploaded the data!\n",
    "db.list_collection_names()"
   ]
  },
  {
   "cell_type": "code",
   "execution_count": 7,
   "metadata": {},
   "outputs": [
    {
     "name": "stdout",
     "output_type": "stream",
     "text": [
      "['admin', 'bgg', 'books', 'config', 'local', 'outings', 'test']\n"
     ]
    }
   ],
   "source": [
    "print(client.list_database_names())"
   ]
  },
  {
   "cell_type": "code",
   "execution_count": null,
   "metadata": {},
   "outputs": [],
   "source": []
  },
  {
   "cell_type": "code",
   "execution_count": 10,
   "metadata": {},
   "outputs": [],
   "source": [
    "bgg_df = client['bgg']"
   ]
  },
  {
   "cell_type": "markdown",
   "metadata": {},
   "source": [
    "#### Add dataframe with game description to MongoDB"
   ]
  },
  {
   "cell_type": "code",
   "execution_count": 49,
   "metadata": {},
   "outputs": [],
   "source": [
    "games_desc = bgg_df['games_desc']"
   ]
  },
  {
   "cell_type": "code",
   "execution_count": 51,
   "metadata": {},
   "outputs": [],
   "source": [
    "df = pd.read_csv('top_1000_desc_2230_12May.csv')"
   ]
  },
  {
   "cell_type": "code",
   "execution_count": 52,
   "metadata": {},
   "outputs": [],
   "source": [
    "# To insert df into MongoDB with proper formatting, need to use\n",
    "data_desc = df.to_dict(orient='records')"
   ]
  },
  {
   "cell_type": "code",
   "execution_count": 53,
   "metadata": {},
   "outputs": [
    {
     "data": {
      "text/plain": [
       "<pymongo.results.InsertManyResult at 0x2556ca93548>"
      ]
     },
     "execution_count": 53,
     "metadata": {},
     "output_type": "execute_result"
    }
   ],
   "source": [
    "games_desc.insert_many(data_desc)"
   ]
  },
  {
   "cell_type": "code",
   "execution_count": 60,
   "metadata": {},
   "outputs": [
    {
     "data": {
      "text/plain": [
       "[{'_id': ObjectId('5ebd96f030cfaa8935077b4c'),\n",
       "  'id': 174430,\n",
       "  'game': 'Gloomhaven',\n",
       "  'url': 'https://boardgamegeek.com/boardgame/174430/gloomhaven',\n",
       "  'description': 'Gloomhaven  is a game of Euro-inspired tactical combat in a persistent world of shifting motives. Players will take on the role of a wandering adventurer with their own special set of skills and their own reasons for traveling to this dark corner of the world. Players must work together out of necessity to clear out menacing dungeons and forgotten ruins. In the process, they will enhance their abilities with experience and loot, discover new locations to explore and plunder, and expand an ever-branching story fueled by the decisions they make.\\n\\nThis is a game with a persistent and changing world that is ideally played over many game sessions. After a scenario, players will make decisions on what to do, which will determine how the story continues, kind of like a &ldquo;Choose Your Own Adventure&rdquo; book. Playing through a scenario is a cooperative affair where players will fight against automated monsters using an innovative card system to determine the order of play and what a player does on their turn.\\n\\nEach turn, a player chooses two cards to play out of their hand. The number on the top card determines their initiative for the round. Each card also has a top and bottom power, and when it is a player&rsquo;s turn in the initiative order, they determine whether to use the top power of one card and the bottom power of the other, or vice-versa. Players must be careful, though, because over time they will permanently lose cards from their hands. If they take too long to clear a dungeon, they may end up exhausted and be forced to retreat.'},\n",
       " {'_id': ObjectId('5ebd96f030cfaa8935077b4d'),\n",
       "  'id': 161936,\n",
       "  'game': 'Pandemic Legacy: Season 1',\n",
       "  'url': 'https://boardgamegeek.com/boardgame/161936/pandemic-legacy-season-1',\n",
       "  'description': \"Pandemic Legacy is a co-operative campaign game, with an overarching story-arc played through 12-24 sessions, depending on how well your group does at the game. At the beginning, the game starts very similar to basic Pandemic, in which your team of disease-fighting specialists races against the clock to travel around the world, treating disease hotspots while researching cures for each of four plagues before they get out of hand.\\n\\nDuring a player's turn, they have four actions available, with which they may travel around in the world in various ways (sometimes needing to discard a card), build structures like research stations, treat diseases (removing one cube from the board; if all cubes of a color have been removed, the disease has been eradicated), trade cards with other players, or find a cure for a disease (requiring five cards of the same color to be discarded while at a research station). Each player has a unique role with special abilities to help them at these actions.\\n\\nAfter a player has taken their actions, they draw two cards. These cards can include epidemic cards, which will place new disease cubes on the board, and can lead to an outbreak, spreading disease cubes even further. Outbreaks additionally increase the panic level of a city, making that city more expensive to travel to.\\n\\nEach month in the game, you have two chances to achieve that month's objectives. If you succeed, you win and immediately move on to the next month. If you fail, you have a second chance, with more funding for beneficial event cards.\\n\\nDuring the campaign, new rules and components will be introduced. These will sometimes require you to permanently alter the components of the game; this includes writing on cards, ripping up cards, and placing permanent stickers on components. Your characters can gain new skills, or detrimental effects. A character can even be lost entirely, at which point it's no longer available for play.\\n\\nPart of the Pandemic series\"},\n",
       " {'_id': ObjectId('5ebd96f030cfaa8935077b4e'),\n",
       "  'id': 167791,\n",
       "  'game': 'Terraforming Mars',\n",
       "  'url': 'https://boardgamegeek.com/boardgame/167791/terraforming-mars',\n",
       "  'description': 'In the 2400s, mankind begins to terraform the planet Mars. Giant corporations, sponsored by the World Government on Earth, initiate huge projects to raise the temperature, the oxygen level, and the ocean coverage until the environment is habitable. In Terraforming Mars, you play one of those corporations and work together in the terraforming process, but compete for getting victory points that are awarded not only for your contribution to the terraforming, but also for advancing human infrastructure throughout the solar system, and doing other commendable things.\\n\\nThe players acquire unique project cards (from over two hundred different ones) by buying them to their hand. The projects (cards) can represent anything from introducing plant life or animals, hurling asteroids at the surface, building cities, to mining the moons of Jupiter and establishing greenhouse gas industries to heat up the atmosphere. The cards can give you immediate bonuses, as well as increasing your production of different resources. Many cards also have requirements and they become playable when the temperature, oxygen, or ocean coverage increases enough. Buying cards is costly, so there is a balance between buying cards (3 megacredits per card) and actually playing them (which can cost anything between 0 to 41 megacredits, depending on the project). Standard Projects are always available to complement your cards.\\n\\nYour basic income, as well as your basic score, is based on your Terraform Rating (starting at 20), which increases every time you raise one of the three global parameters. However, your income is complemented with your production, and you also get VPs from many other sources.\\n\\nEach player keeps track of their production and resources on their player boards, and the game uses six types of resources: MegaCredits, Steel, Titanium, Plants, Energy, and Heat. On the game board, you compete for the best places for your city tiles, ocean tiles, and greenery tiles. You also compete for different Milestones and Awards worth many VPs. Each round is called a generation (guess why) and consists of the following phases:\\n\\n1) Player order shifts clockwise.\\n2) Research phase: All players buy cards from four privately drawn.\\n3) Action phase: Players take turns doing 1-2 actions from these options: Playing a card, claiming a Milestone, funding an Award, using a Standard project, converting plant into greenery tiles (and raising oxygen), converting heat into a temperature raise, and using the action of a card in play. The turn continues around the table (sometimes several laps) until all players have passed.\\n4) Production phase: Players get resources according to their terraform rating and production parameters.\\n\\nWhen the three global parameters (temperature, oxygen, ocean) have all reached their goal, the terraforming is complete, and the game ends after that generation. Count your Terraform Rating and other VPs to determine the winning corporation!'},\n",
       " {'_id': ObjectId('5ebd96f030cfaa8935077b4f'),\n",
       "  'id': 224517,\n",
       "  'game': 'Brass: Birmingham',\n",
       "  'url': 'https://boardgamegeek.com/boardgame/224517/brass-birmingham',\n",
       "  'description': \"Brass: Birmingham is an economic strategy game sequel to Martin Wallace' 2007 masterpiece, Brass. Birmingham tells the story of competing entrepreneurs in Birmingham during the industrial revolution, between the years of 1770-1870.\\n\\nAs in its predecessor, you must develop, build, and establish your industries and network, in an effort to exploit low or high market demands.\\n\\nEach round, players take turns according to the turn order track, receiving two actions to perform any of the following actions (found in the original game):\\n\\n1) Build - Pay required resources and place an industry tile.\\n2) Network - Add a rail / canal link, expanding your network.\\n3) Develop - Increase the VP value of an industry.\\n4) Sell - Sell your cotton, manufactured goods and pottery.\\n5) Loan - Take a &pound;30 loan and reduce your income.\\n\\nBrass: Birmingham also features a new sixth action:\\n\\n6) Scout - Discard three cards and take a wild location and wild industry card. (This action replaces Double Action Build in original Brass.)\\n\\nThe game is played over two halves: the canal era (years 1770-1830) and the rail era (years 1830-1870). To win the game, score the most VPs. VPs are counted at the end of each half for the canals, rails and established (flipped) industry tiles.\\n\\nBirmingham features dynamic scoring canals/rails. Instead of each flipped industry tile giving a static 1 VP to all connected canals and rails, many industries give 0 or even 2 VPs. This provides players with the opportunity to score much higher value canals in the first era, and creates interesting strategy with industry placement.\\n\\nIron, coal, and cotton are three industries which appear in both the original Brass as well as in Brass: Birmingham.\\n\\nNew &quot;Sell&quot; system\\n\\nBrewing has become a fundamental part of the culture in Birmingham. You must now sell your product through traders located around the edges of the board. Each of these traders is looking for a specific type of good each game. To sell cotton, pottery, or manufactured goods to these traders, you must also &quot;grease the wheels of industry&quot; by consuming beer. For example, a level 1 cotton mill requires one beer to flip. As an incentive to sell early, the first player to sell to a trader receives free beer.\\n\\nBirmingham features three all-new industry types:\\n\\nBrewery - Produces precious beer barrels required to sell goods.\\n\\nManufactured goods - Function like cotton, but features eight levels. Each level of manufactured goods provides unique rewards, rather than just escalating in VPs, making it a more versatile (yet potentially more difficult) path vs cotton.\\n\\nPottery - These behemoths of Birmingham offer huge VPs, but at a huge cost and need to plan.\\n\\nIncreased Coal and Iron Market size - The price of coal and iron can now go up to &pound;8 per cube, and it's not uncommon.\\n\\nBrass: Birmingham is a sequel to Brass. It offers a very different story arc and experience from its predecessor.\"},\n",
       " {'_id': ObjectId('5ebd96f030cfaa8935077b50'),\n",
       "  'id': 182028,\n",
       "  'game': 'Through the Ages: A New Story of Civilization',\n",
       "  'url': 'https://boardgamegeek.com/boardgame/182028/through-ages-new-story-civilization',\n",
       "  'description': \"Through the Ages: A New Story of Civilization is the new edition of Through the Ages: A Story of Civilization, with many changes small and large to the game's cards over its three ages and extensive changes to how military works.\\n\\nThrough the Ages is a civilization building game. Each player attempts to build the best civilization through careful resource management, discovering new technologies, electing the right leaders, building wonders and maintaining a strong military. Weakness in any area can be exploited by your opponents. The game takes place throughout the ages beginning in the age of antiquity and ending in the modern age.\\n\\nOne of the primary mechanisms in TTA is card drafting. Technologies, wonders, and leaders come into play and become easier to draft the longer they are in play. In order to use a technology you will need enough science to discover it, enough food to create a population to man it and enough resources (ore) to build the building to use it. While balancing the resources needed to advance your technology you also need to build a military. Military is built in the same way as civilian buildings. Players that have a weak military will be preyed upon by other players. There is no map in the game so you cannot lose territory, but players with higher military will steal resources, science, kill leaders, take population or culture. It is very difficult to win with a large military, but it is very easy to lose because of a weak one.\\n\\nVictory is achieved by the player whose nation has the most culture at the end of the modern age.\"},\n",
       " {'_id': ObjectId('5ebd96f030cfaa8935077b51'),\n",
       "  'id': 233078,\n",
       "  'game': 'Twilight Imperium (Fourth Edition)',\n",
       "  'url': 'https://boardgamegeek.com/boardgame/233078/twilight-imperium-fourth-edition',\n",
       "  'description': \"Twilight Imperium (Fourth Edition) is a game of galactic conquest in which three to six players take on the role of one of seventeen factions vying for galactic domination through military might, political maneuvering, and economic bargaining. Every faction offers a completely different play experience, from the wormhole-hopping Ghosts of Creuss to the Emirates of Hacan, masters of trade and economics. These seventeen races are offered many paths to victory, but only one may sit upon the throne of Mecatol Rex as the new masters of the galaxy.\\n\\nNo two games of Twilight Imperium are ever identical. At the start of each galactic age, the game board is uniquely and strategically constructed using 51 galaxy tiles that feature everything from lush new planets and supernovas to asteroid fields and gravity rifts. Players are dealt a hand of these tiles and take turns creating the galaxy around Mecatol Rex, the capital planet seated in the center of the board. An ion storm may block your race from progressing through the galaxy while a fortuitously placed gravity rift may protect you from your closest foes. The galaxy is yours to both craft and dominate.\\n\\nA round of Twilight Imperium begins with players selecting one of eight strategy cards that both determine player order and give their owner a unique strategic action for that round. These may do anything from providing additional command tokens to allowing a player to control trade throughout the galaxy. After these roles are selected, players take turns moving their fleets from system to system, claiming new planets for their empire, and engaging in warfare and trade with other factions. At the end of a turn, players gather in a grand council to pass new laws and agendas, shaking up the game in unpredictable ways.\\n\\nAfter every player has passed their turn, players move up the victory track by checking to see whether they have completed any objectives throughout the turn and scoring them. Objectives are determined by setting up ten public objective cards at the start of each game, then gradually revealing them with every round. Every player also chooses between two random secret objectives at the start of the game, providing victory points achievable only by the holder of that objective. These objectives can be anything from researching new technologies to taking your neighbor's home system. At the end of every turn, a player can claim one public objective and one secret objective. As play continues, more of these objectives are revealed and more secret objectives are dealt out, giving players dynamically changing goals throughout the game. Play continues until a player reaches ten victory points.\\n\\n&mdash;description from the publisher\"},\n",
       " {'_id': ObjectId('5ebd96f030cfaa8935077b52'),\n",
       "  'id': 187645,\n",
       "  'game': 'Star Wars: Rebellion',\n",
       "  'url': 'https://boardgamegeek.com/boardgame/187645/star-wars-rebellion',\n",
       "  'description': \"Star Wars: Rebellion is a board game of epic conflict between the Galactic Empire and Rebel Alliance for two to four players.\\n\\nExperience the Galactic Civil War like never before. In Rebellion, you control the entire Galactic Empire or the fledgling Rebel Alliance. You must command starships, account for troop movements, and rally systems to your cause. Given the differences between the Empire and Rebel Alliance, each side has different win conditions, and you'll need to adjust your play style depending on who you represent:\\n\\n     As the Imperial player, you can command legions of Stormtroopers, swarms of TIEs, Star Destroyers, and even the Death Star. You rule the galaxy by fear, relying on the power of your massive military to enforce your will. To win the game, you need to snuff out the budding Rebel Alliance by finding its base and obliterating it. Along the way, you can subjugate worlds or even destroy them.\\n     As the Rebel player, you can command dozens of troopers, T-47 airspeeders, Corellian corvettes, and fighter squadrons. However, these forces are no match for the Imperial military. In terms of raw strength, you'll find yourself clearly overmatched from the very outset, so you'll need to rally the planets to join your cause and execute targeted military strikes to sabotage Imperial build yards and steal valuable intelligence. To win the Galactic Civil War, you'll need to sway the galaxy's citizens to your cause. If you survive long enough and strengthen your reputation, you inspire the galaxy to a full-scale revolt, and you win.\\n\\n\\n\\n\\nFeaturing more than 150 plastic miniatures and two game boards that account for thirty-two of the Star Wars galaxy's most notable systems, Rebellion features a scope that is as large and sweeping as any Star Wars game before it.\\n\\nYet for all its grandiosity, Rebellion remains intensely personal, cinematic, and heroic. As much as your success depends upon the strength of your starships, vehicles, and troops, it depends upon the individual efforts of such notable characters as Leia Organa, Mon Mothma, Grand Moff Tarkin, and Emperor Palpatine. As civil war spreads throughout the galaxy, these leaders are invaluable to your efforts, and the secret missions they attempt will evoke many of the most inspiring moments from the classic trilogy. You might send Luke Skywalker to receive Jedi training on Dagobah or have Darth Vader spring a trap that freezes Han Solo in carbonite!\"},\n",
       " {'_id': ObjectId('5ebd96f030cfaa8935077b53'),\n",
       "  'id': 12333,\n",
       "  'game': 'Twilight Struggle',\n",
       "  'url': 'https://boardgamegeek.com/boardgame/12333/twilight-struggle',\n",
       "  'description': \"&quot;Now the trumpet summons us again, not as a call to bear arms, though arms we need; not as a call to battle, though embattled we are &ndash; but a call to bear the burden of a long twilight struggle...&quot;\\n&ndash; John F. Kennedy\\n\\nIn 1945, unlikely allies toppled Hitler's war machine, while humanity's most devastating weapons forced the Japanese Empire to its knees in a storm of fire. Where once there stood many great powers, there then stood only two. The world had scant months to sigh its collective relief before a new conflict threatened. Unlike the titanic struggles of the preceding decades, this conflict would be waged not primarily by soldiers and tanks, but by spies and politicians, scientists and intellectuals, artists and traitors. Twilight Struggle is a two-player game simulating the forty-five year  dance of intrigue, prestige, and occasional flares of warfare between the Soviet Union and the United States. The entire world is the stage on which these two titans fight to make the world safe for their own ideologies and ways of life. The game begins amidst the ruins of Europe as the two new &quot;superpowers&quot; scramble over the wreckage of the Second World War, and ends in 1989, when only the United States remained standing.\\n\\nTwilight Struggle inherits its fundamental systems from the card-driven classics We the People and Hannibal: Rome vs. Carthage. It is a quick-playing, low-complexity game in that tradition. The game map is a world map of the period, whereon players move units and exert influence in attempts to gain allies and control for their superpower. As with GMT's other card-driven games, decision-making is a challenge; how to best use one's cards and units given consistently limited resources?\\n\\nTwilight Struggle's Event cards add detail and flavor to the game. They cover a vast array of historical happenings, from the Arab-Israeli conflicts of 1948 and 1967, to Vietnam and the U.S. peace movement, to the Cuban Missile Crisis and other such incidents that brought the world to the brink of nuclear annihilation. Subsystems capture the prestige-laden Space Race as well as nuclear tensions, with the possibility of game-ending nuclear war.\\n\\nComponents (original edition):\\n\\n\\n     228 full colour counters \\n     22&quot;x34&quot; full colour map \\n     103 event cards \\n     2 six-sided dice\\n     1 24-page rulebook\\n     2 full colour player aid cards\\n\\n\\nComponents (2009 Deluxe edition and after)\\n\\n     260 full colour counters \\n     22&quot;x34&quot; mounted map with revised graphics\\n     110 event cards\\n     2 six-sided dice\\n     1 24-page rulebook\\n     2 full colour player aid cards\\n\\n\\n\\n\\nTIME SCALE:     approx. 3-5 years per turn\\nMAP SCALE:     Point-to-point system\\nUNIT SCALE:     Influence markers\\nNUMBER OF PLAYERS:     2\\n\\nDESIGNER: Ananda Gupta &amp; Jason Matthews\\nMAP, CARD, &amp; COUNTER ART: Mark Simonitch\\n\\n\\nA deluxe edition, published in 2009 includes the following changes from the basic game:\\n\\n     Mounted map with revised graphics\\n     Two double-thick counter sheets with 260 counters\\n     Deck of 110 event cards (increased from 103)\\n     Revised rules and player aid cards\\n     Revised at start setup and text change for card #98 Aldrich Ames\\n\\n\\n\\n\\nUpgrade kit for the owners of the previous version includes the following:\\n\\n     Mounted Map with revised graphics\\n     New card decks\\n     Updated Rules &amp; Charts\"},\n",
       " {'_id': ObjectId('5ebd96f030cfaa8935077b54'),\n",
       "  'id': 220308,\n",
       "  'game': 'Gaia Project',\n",
       "  'url': 'https://boardgamegeek.com/boardgame/220308/gaia-project',\n",
       "  'description': 'Gaia Project is a new game in the line of Terra Mystica. As in the original Terra Mystica, fourteen different factions live on seven different kinds of planets, and each faction is bound to their own home planets, so to develop and grow, they must terraform neighboring planets into their home environments in competition with the other groups. In addition, Gaia planets can be used by all factions for colonization, and Transdimensional planets can be changed into Gaia planets.\\n\\nAll factions can improve their skills in six different areas of development &mdash; Terraforming, Navigation, Artificial Intelligence, Gaiaforming, Economy, Research &mdash; leading to advanced technology and special bonuses. To do all of that, each group has special skills and abilities.\\n\\nThe playing area is made of ten sectors, allowing a variable set-up and thus an even bigger replay value than its predecessor Terra Mystica. A two-player game is hosted on seven sectors.\\n\\n&mdash;description from the publisher'},\n",
       " {'_id': ObjectId('5ebd96f030cfaa8935077b55'),\n",
       "  'id': 193738,\n",
       "  'game': 'Great Western Trail',\n",
       "  'url': 'https://boardgamegeek.com/boardgame/193738/great-western-trail',\n",
       "  'description': 'America in the 19th century: You are a rancher and repeatedly herd your cattle from Texas to Kansas City, where you send them off by train. This earns you money and victory points. Needless to say, each time you arrive in Kansas City, you want to have your most valuable cattle in tow. However, the &quot;Great Western Trail&quot; not only requires that you keep your herd in good shape, but also that you wisely use the various buildings along the trail. Also, it might be a good idea to hire capable staff: cowboys to improve your herd, craftsmen to build your very own buildings, or engineers for the important railroad line.\\n\\nIf you cleverly manage your herd and navigate the opportunities and pitfalls of Great Western Trail, you surely will gain the most victory points and win the game.\\n\\n&mdash;description from the publisher'}]"
      ]
     },
     "execution_count": 60,
     "metadata": {},
     "output_type": "execute_result"
    }
   ],
   "source": [
    "list(bgg_dg['games_desc'].find().limit(10))"
   ]
  },
  {
   "cell_type": "markdown",
   "metadata": {},
   "source": [
    "#### To get data from MongoDB to jupyter notebook"
   ]
  },
  {
   "cell_type": "code",
   "execution_count": 62,
   "metadata": {},
   "outputs": [],
   "source": [
    "df_out = pd.DataFrame(list(bgg_dg['games_desc'].find()))"
   ]
  },
  {
   "cell_type": "code",
   "execution_count": 63,
   "metadata": {},
   "outputs": [
    {
     "data": {
      "text/html": [
       "<div>\n",
       "<style scoped>\n",
       "    .dataframe tbody tr th:only-of-type {\n",
       "        vertical-align: middle;\n",
       "    }\n",
       "\n",
       "    .dataframe tbody tr th {\n",
       "        vertical-align: top;\n",
       "    }\n",
       "\n",
       "    .dataframe thead th {\n",
       "        text-align: right;\n",
       "    }\n",
       "</style>\n",
       "<table border=\"1\" class=\"dataframe\">\n",
       "  <thead>\n",
       "    <tr style=\"text-align: right;\">\n",
       "      <th></th>\n",
       "      <th>_id</th>\n",
       "      <th>id</th>\n",
       "      <th>game</th>\n",
       "      <th>url</th>\n",
       "      <th>description</th>\n",
       "    </tr>\n",
       "  </thead>\n",
       "  <tbody>\n",
       "    <tr>\n",
       "      <th>0</th>\n",
       "      <td>5ebd96f030cfaa8935077b4c</td>\n",
       "      <td>174430</td>\n",
       "      <td>Gloomhaven</td>\n",
       "      <td>https://boardgamegeek.com/boardgame/174430/glo...</td>\n",
       "      <td>Gloomhaven  is a game of Euro-inspired tactica...</td>\n",
       "    </tr>\n",
       "    <tr>\n",
       "      <th>1</th>\n",
       "      <td>5ebd96f030cfaa8935077b4d</td>\n",
       "      <td>161936</td>\n",
       "      <td>Pandemic Legacy: Season 1</td>\n",
       "      <td>https://boardgamegeek.com/boardgame/161936/pan...</td>\n",
       "      <td>Pandemic Legacy is a co-operative campaign gam...</td>\n",
       "    </tr>\n",
       "    <tr>\n",
       "      <th>2</th>\n",
       "      <td>5ebd96f030cfaa8935077b4e</td>\n",
       "      <td>167791</td>\n",
       "      <td>Terraforming Mars</td>\n",
       "      <td>https://boardgamegeek.com/boardgame/167791/ter...</td>\n",
       "      <td>In the 2400s, mankind begins to terraform the ...</td>\n",
       "    </tr>\n",
       "    <tr>\n",
       "      <th>3</th>\n",
       "      <td>5ebd96f030cfaa8935077b4f</td>\n",
       "      <td>224517</td>\n",
       "      <td>Brass: Birmingham</td>\n",
       "      <td>https://boardgamegeek.com/boardgame/224517/bra...</td>\n",
       "      <td>Brass: Birmingham is an economic strategy game...</td>\n",
       "    </tr>\n",
       "    <tr>\n",
       "      <th>4</th>\n",
       "      <td>5ebd96f030cfaa8935077b50</td>\n",
       "      <td>182028</td>\n",
       "      <td>Through the Ages: A New Story of Civilization</td>\n",
       "      <td>https://boardgamegeek.com/boardgame/182028/thr...</td>\n",
       "      <td>Through the Ages: A New Story of Civilization ...</td>\n",
       "    </tr>\n",
       "  </tbody>\n",
       "</table>\n",
       "</div>"
      ],
      "text/plain": [
       "                        _id      id  \\\n",
       "0  5ebd96f030cfaa8935077b4c  174430   \n",
       "1  5ebd96f030cfaa8935077b4d  161936   \n",
       "2  5ebd96f030cfaa8935077b4e  167791   \n",
       "3  5ebd96f030cfaa8935077b4f  224517   \n",
       "4  5ebd96f030cfaa8935077b50  182028   \n",
       "\n",
       "                                            game  \\\n",
       "0                                     Gloomhaven   \n",
       "1                      Pandemic Legacy: Season 1   \n",
       "2                              Terraforming Mars   \n",
       "3                              Brass: Birmingham   \n",
       "4  Through the Ages: A New Story of Civilization   \n",
       "\n",
       "                                                 url  \\\n",
       "0  https://boardgamegeek.com/boardgame/174430/glo...   \n",
       "1  https://boardgamegeek.com/boardgame/161936/pan...   \n",
       "2  https://boardgamegeek.com/boardgame/167791/ter...   \n",
       "3  https://boardgamegeek.com/boardgame/224517/bra...   \n",
       "4  https://boardgamegeek.com/boardgame/182028/thr...   \n",
       "\n",
       "                                         description  \n",
       "0  Gloomhaven  is a game of Euro-inspired tactica...  \n",
       "1  Pandemic Legacy is a co-operative campaign gam...  \n",
       "2  In the 2400s, mankind begins to terraform the ...  \n",
       "3  Brass: Birmingham is an economic strategy game...  \n",
       "4  Through the Ages: A New Story of Civilization ...  "
      ]
     },
     "execution_count": 63,
     "metadata": {},
     "output_type": "execute_result"
    }
   ],
   "source": [
    "df_out.head()"
   ]
  }
 ],
 "metadata": {
  "kernelspec": {
   "display_name": "Python [conda env:metis] *",
   "language": "python",
   "name": "conda-env-metis-py"
  },
  "language_info": {
   "codemirror_mode": {
    "name": "ipython",
    "version": 3
   },
   "file_extension": ".py",
   "mimetype": "text/x-python",
   "name": "python",
   "nbconvert_exporter": "python",
   "pygments_lexer": "ipython3",
   "version": "3.7.6"
  }
 },
 "nbformat": 4,
 "nbformat_minor": 4
}
